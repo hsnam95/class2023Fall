{
  "nbformat": 4,
  "nbformat_minor": 0,
  "metadata": {
    "colab": {
      "name": "sound_processing.ipynb",
      "provenance": [],
      "authorship_tag": "ABX9TyNSe5/5IYkUoMFFswF8PEH/",
      "include_colab_link": true
    },
    "kernelspec": {
      "name": "python3",
      "display_name": "Python 3"
    },
    "language_info": {
      "name": "python"
    }
  },
  "cells": [
    {
      "cell_type": "markdown",
      "metadata": {
        "id": "view-in-github",
        "colab_type": "text"
      },
      "source": [
        "<a href=\"https://colab.research.google.com/github/hsnam95/class2023Spring/blob/main/sound_processing.ipynb\" target=\"_parent\"><img src=\"https://colab.research.google.com/assets/colab-badge.svg\" alt=\"Open In Colab\"/></a>"
      ]
    },
    {
      "cell_type": "markdown",
      "source": [
        "# Digital Signal Processing\n",
        "> sampling rate(Hz), frequency(Hz), phasor"
      ],
      "metadata": {
        "id": "NhOLUyQcc47r"
      }
    },
    {
      "cell_type": "code",
      "metadata": {
        "id": "2WAs2J9dWcUv"
      },
      "source": [
        "import numpy as np\n",
        "import matplotlib.pyplot as plt\n",
        "import IPython.display as ipd"
      ],
      "execution_count": null,
      "outputs": []
    },
    {
      "cell_type": "markdown",
      "metadata": {
        "id": "d3TfZBr7_pd7"
      },
      "source": [
        "### Phasor (sine)"
      ]
    },
    {
      "cell_type": "code",
      "metadata": {
        "id": "PiiWF43_WcU2"
      },
      "source": [
        "# parameter setting\n",
        "amp = 1          # range [0.0, 1.0]\n",
        "sr = 10000       # sampling rate, Hz\n",
        "dur = 0.5        # in seconds\n",
        "freq = 200.0     # sine frequency, Hz\n",
        "phase = 0  # phase, radian"
      ],
      "execution_count": null,
      "outputs": []
    },
    {
      "cell_type": "code",
      "metadata": {
        "id": "eog54PdaWcU2"
      },
      "source": [
        "# generate sample ticks\n",
        "nSamp = sr * dur\n",
        "samples = np.arange(1, nSamp+1)"
      ],
      "execution_count": null,
      "outputs": []
    },
    {
      "cell_type": "code",
      "metadata": {
        "id": "qAc8Esm5OlaR"
      },
      "source": [
        "# convert sample to time (sec)\n",
        "t = samples/sr"
      ],
      "execution_count": null,
      "outputs": []
    },
    {
      "cell_type": "code",
      "metadata": {
        "id": "RSv5Po5sWcU3"
      },
      "source": [
        "# convert time to angle (radian)\n",
        "theta0 = t * 2*np.pi * freq"
      ],
      "execution_count": null,
      "outputs": []
    },
    {
      "cell_type": "code",
      "metadata": {
        "id": "cesUeSr3OybQ"
      },
      "source": [
        "# shift angle by phase\n",
        "theta = theta0 + phase"
      ],
      "execution_count": null,
      "outputs": []
    },
    {
      "cell_type": "code",
      "metadata": {
        "id": "89hyLs9mWcU3"
      },
      "source": [
        "# generate signal by sin-phasor\n",
        "s = amp * np.sin(theta)"
      ],
      "execution_count": null,
      "outputs": []
    },
    {
      "cell_type": "code",
      "metadata": {
        "id": "VRlMTkzlPMDb"
      },
      "source": [
        "# plot the entire signal\n",
        "plt.plot(theta, s, ':')\n",
        "plt.xlabel('angle (radian)')\n",
        "plt.ylabel('real')"
      ],
      "execution_count": null,
      "outputs": []
    },
    {
      "cell_type": "code",
      "metadata": {
        "id": "3ADA5DXBWcU3"
      },
      "source": [
        "# plot a certain portion of signals\n",
        "sampleRng = np.arange(0,100)\n",
        "plt.plot(t[sampleRng], s[sampleRng], ':')\n",
        "plt.xlabel('time (s)')\n",
        "plt.ylabel('real')"
      ],
      "execution_count": null,
      "outputs": []
    },
    {
      "cell_type": "code",
      "metadata": {
        "id": "hVYGTtZ6krh-"
      },
      "source": [
        "ipd.Audio(s, rate=sr)"
      ],
      "execution_count": null,
      "outputs": []
    },
    {
      "cell_type": "code",
      "metadata": {
        "id": "E2RzJdMYepVH"
      },
      "source": [
        "def phasor_sine(amp, sr, dur, freq, phase):\n",
        "  t = np.arange(1, sr * dur+1)/sr\n",
        "  theta = t * 2*np.pi * freq + phase\n",
        "  s = amp * np.sin(theta)\n",
        "  return s, t, theta"
      ],
      "execution_count": null,
      "outputs": []
    },
    {
      "cell_type": "code",
      "metadata": {
        "id": "KBF1AzEihCvt"
      },
      "source": [
        "amp = 1; sr = 10000; dur = 1; freq = 110; phase = 0\n",
        "s, t, theta = phasor_sine(amp, sr, dur, freq, phase)\n",
        "ipd.Audio(s, rate=sr)"
      ],
      "execution_count": null,
      "outputs": []
    },
    {
      "cell_type": "markdown",
      "metadata": {
        "id": "UbvPura88cTP"
      },
      "source": [
        "### Phasor (complex)"
      ]
    },
    {
      "cell_type": "code",
      "metadata": {
        "id": "HE2s1cUu8cTQ"
      },
      "source": [
        "# parameter setting\n",
        "amp = 1          # range [0.0, 1.0]\n",
        "sr = 10000       # sampling rate, Hz\n",
        "dur = 0.5        # in seconds\n",
        "freq = 100.0     # sine frequency, Hz\n",
        "phase = 0  # phase, radian"
      ],
      "execution_count": null,
      "outputs": []
    },
    {
      "cell_type": "code",
      "metadata": {
        "id": "6EShFMfZ8cTS"
      },
      "source": [
        "# generate sample ticks\n",
        "nSamp = sr * dur\n",
        "samples = np.arange(1, nSamp+1)"
      ],
      "execution_count": null,
      "outputs": []
    },
    {
      "cell_type": "code",
      "metadata": {
        "id": "Qdfr7oov8cTT"
      },
      "source": [
        "# convert samples to time\n",
        "t = samples/sr"
      ],
      "execution_count": null,
      "outputs": []
    },
    {
      "cell_type": "code",
      "metadata": {
        "id": "4ZW9EVdm8cTT"
      },
      "source": [
        "# convert time to angle in radian\n",
        "theta0 = t * 2*np.pi * freq"
      ],
      "execution_count": null,
      "outputs": []
    },
    {
      "cell_type": "code",
      "metadata": {
        "id": "VerbCAtu8cTT"
      },
      "source": [
        "# shift angle by phase\n",
        "theta = theta0 + phase"
      ],
      "execution_count": null,
      "outputs": []
    },
    {
      "cell_type": "code",
      "metadata": {
        "id": "2i5SwVUN8cTU"
      },
      "source": [
        "# generate signal by complex-phasor\n",
        "c = amp * np.exp(theta*1j)"
      ],
      "execution_count": null,
      "outputs": []
    },
    {
      "cell_type": "code",
      "metadata": {
        "id": "3ULGOec-8cTU"
      },
      "source": [
        "# plot the entire signal\n",
        "import plotly.graph_objects as go\n",
        "x, y, z = t, c.real, c.imag\n",
        "fig = go.Figure(data=[go.Scatter3d(x=x, y=y, z=z,\n",
        "                                   mode='markers',\n",
        "                                   marker=dict(size=3))])\n",
        "fig.update_layout(scene = dict(\n",
        "                    xaxis_title='time (sec)',\n",
        "                    yaxis_title='real',\n",
        "                    zaxis_title='imag'))\n",
        "fig.show()"
      ],
      "execution_count": null,
      "outputs": []
    },
    {
      "cell_type": "code",
      "metadata": {
        "id": "O6AdKbO18cTV"
      },
      "source": [
        "# plot a certain portion of signals\n",
        "import plotly.graph_objects as go\n",
        "sampleRng = np.arange(0,100)\n",
        "x, y, z = t[sampleRng], c.real[sampleRng], c.imag[sampleRng]\n",
        "fig = go.Figure(data=[go.Scatter3d(x=x, y=y, z=z,\n",
        "                                   mode='markers',\n",
        "                                   marker=dict(size=3))])\n",
        "fig.update_layout(scene = dict(\n",
        "                    xaxis_title='time (sec)',\n",
        "                    yaxis_title='real',\n",
        "                    zaxis_title='imag'))\n",
        "fig.show()"
      ],
      "execution_count": null,
      "outputs": []
    },
    {
      "cell_type": "code",
      "metadata": {
        "id": "F9gD4_DY8cTV"
      },
      "source": [
        "ipd.Audio(c, rate=sr)"
      ],
      "execution_count": null,
      "outputs": []
    },
    {
      "cell_type": "code",
      "metadata": {
        "id": "VtBE8NGz8cTV"
      },
      "source": [
        "def phasor_complex(amp, sr, dur, freq, phase):\n",
        "  t = np.arange(1, sr * dur+1)/sr\n",
        "  theta = t * 2*np.pi * freq + phase\n",
        "  c = amp * np.exp(theta*1j)\n",
        "  return c, t, theta"
      ],
      "execution_count": null,
      "outputs": []
    },
    {
      "cell_type": "code",
      "metadata": {
        "id": "hR8gNlF88cTW"
      },
      "source": [
        "amp = 1; sr = 10000; dur = 1; freq = 440; phase = 0\n",
        "c, t, theta = phasor_complex(amp, sr, dur, freq, phase)\n",
        "ipd.Audio(c.real, rate=sr)"
      ],
      "execution_count": null,
      "outputs": []
    }
  ]
}